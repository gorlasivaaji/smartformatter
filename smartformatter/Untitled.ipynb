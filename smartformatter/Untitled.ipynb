{
 "cells": [
  {
   "cell_type": "code",
   "execution_count": 1,
   "id": "376ea7e0-9d4d-41d8-93b0-af0e03269f1c",
   "metadata": {},
   "outputs": [
    {
     "name": "stdout",
     "output_type": "stream",
     "text": [
      "0\n",
      "1\n",
      "2\n"
     ]
    }
   ],
   "source": [
    "for i in range(3):\n",
    "    print(i)"
   ]
  },
  {
   "cell_type": "code",
   "execution_count": 3,
   "id": "837550bd-8825-434f-ac0b-ab8264569ef3",
   "metadata": {},
   "outputs": [
    {
     "name": "stdout",
     "output_type": "stream",
     "text": [
      "Hi\n",
      "Hi\n",
      "Hi\n"
     ]
    }
   ],
   "source": [
    "count = 0\n",
    "while count<3:\n",
    "    \n",
    "    print(\"Hi\")\n",
    "    count+=1"
   ]
  },
  {
   "cell_type": "code",
   "execution_count": 5,
   "id": "7add1f5f-532a-4ca6-b63f-48f0c3ece52c",
   "metadata": {},
   "outputs": [],
   "source": [
    "# 1. Sum of Digits\n",
    "# Problem: Given a positive integer n, return the sum of its digits.\n",
    "# Example: n = 1234 → 1+2+3+4 = 10"
   ]
  },
  {
   "cell_type": "code",
   "execution_count": 7,
   "id": "a634c282-778f-41b7-ae9d-2ef32b2bd065",
   "metadata": {},
   "outputs": [
    {
     "ename": "SyntaxError",
     "evalue": "incomplete input (3299709086.py, line 4)",
     "output_type": "error",
     "traceback": [
      "\u001b[1;36m  Cell \u001b[1;32mIn[7], line 4\u001b[1;36m\u001b[0m\n\u001b[1;33m    \u001b[0m\n\u001b[1;37m    ^\u001b[0m\n\u001b[1;31mSyntaxError\u001b[0m\u001b[1;31m:\u001b[0m incomplete input\n"
     ]
    }
   ],
   "source": [
    "n = int(input())\n",
    "total = 0\n",
    "for i in n:\n",
    "    \n"
   ]
  },
  {
   "cell_type": "code",
   "execution_count": null,
   "id": "68da9136-6976-49ef-bf3c-f4637f576dbf",
   "metadata": {},
   "outputs": [],
   "source": [
    "x = int(input())\n",
    "y =str(x)\n",
    "mp = 0\n",
    "if x < 10:\n",
    "        print(\"sivaji\")\n",
    "else:\n",
    "        p =[]\n",
    "        for i in range(len(y)-1):\n",
    "            for a in p:\n",
    "                c = int(y[i])* int(y[i+1])\n",
    "                c.append(p)\n",
    "                d = p.max()\n",
    "                print(d)\n"
   ]
  },
  {
   "cell_type": "code",
   "execution_count": 21,
   "id": "a6ee54ca-e354-4485-b2ca-779d2ce3e67f",
   "metadata": {},
   "outputs": [
    {
     "name": "stdin",
     "output_type": "stream",
     "text": [
      " 1\n"
     ]
    },
    {
     "name": "stdout",
     "output_type": "stream",
     "text": [
      "sivaji\n"
     ]
    }
   ],
   "source": [
    "x = int(input())\n",
    "y = str(x)\n",
    "\n",
    "if x < 10:\n",
    "    print(\"sivaji\")\n",
    "else:\n",
    "    mp = 0\n",
    "    for i in range(len(y) - 1):\n",
    "        mp = max(mp, int(y[i]) * int(y[i + 1]))\n",
    "    print(mp)\n"
   ]
  },
  {
   "cell_type": "code",
   "execution_count": 19,
   "id": "32d22962-61d5-4676-bcb5-ea6408fcd4b8",
   "metadata": {},
   "outputs": [
    {
     "name": "stdin",
     "output_type": "stream",
     "text": [
      " 1\n"
     ]
    },
    {
     "ename": "ValueError",
     "evalue": "max() iterable argument is empty",
     "output_type": "error",
     "traceback": [
      "\u001b[1;31m---------------------------------------------------------------------------\u001b[0m",
      "\u001b[1;31mValueError\u001b[0m                                Traceback (most recent call last)",
      "Cell \u001b[1;32mIn[19], line 3\u001b[0m\n\u001b[0;32m      1\u001b[0m num \u001b[38;5;241m=\u001b[39m \u001b[38;5;28minput\u001b[39m()\n\u001b[0;32m      2\u001b[0m r \u001b[38;5;241m=\u001b[39m [\u001b[38;5;124m\"\u001b[39m\u001b[38;5;124menter again\u001b[39m\u001b[38;5;124m\"\u001b[39m \u001b[38;5;28;01mif\u001b[39;00m \u001b[38;5;28mint\u001b[39m(num)\u001b[38;5;241m<\u001b[39m\u001b[38;5;241m10\u001b[39m \u001b[38;5;28;01melse\u001b[39;00m \u001b[38;5;28mint\u001b[39m(num[i])\u001b[38;5;241m*\u001b[39m\u001b[38;5;28mint\u001b[39m(num[i\u001b[38;5;241m+\u001b[39m\u001b[38;5;241m1\u001b[39m]) \u001b[38;5;28;01mfor\u001b[39;00m i \u001b[38;5;129;01min\u001b[39;00m \u001b[38;5;28mrange\u001b[39m(\u001b[38;5;28mlen\u001b[39m(num)\u001b[38;5;241m-\u001b[39m\u001b[38;5;241m1\u001b[39m)]\n\u001b[1;32m----> 3\u001b[0m \u001b[38;5;28mprint\u001b[39m(\u001b[38;5;28mmax\u001b[39m(r))\n",
      "\u001b[1;31mValueError\u001b[0m: max() iterable argument is empty"
     ]
    }
   ],
   "source": [
    "num = input()\n",
    "r = [\"enter again\" if int(num)<10 else int(num[i])*int(num[i+1]) for i in range(len(num)-1)]\n",
    "print(max(r))"
   ]
  },
  {
   "cell_type": "code",
   "execution_count": 23,
   "id": "56285b37-745d-4e29-896e-99c4c2953755",
   "metadata": {},
   "outputs": [
    {
     "data": {
      "text/plain": [
       "<zip at 0x256db8a4e00>"
      ]
     },
     "execution_count": 23,
     "metadata": {},
     "output_type": "execute_result"
    }
   ],
   "source": [
    "zip([1,2], ['a','b'])"
   ]
  },
  {
   "cell_type": "code",
   "execution_count": 25,
   "id": "61acf70f-957a-4aac-9540-b1d019fd6131",
   "metadata": {},
   "outputs": [],
   "source": [
    "squares = [x**2 for x in range(5)]"
   ]
  },
  {
   "cell_type": "code",
   "execution_count": 27,
   "id": "1af033e8-a57f-4c7f-8c71-73d73bc69095",
   "metadata": {},
   "outputs": [
    {
     "data": {
      "text/plain": [
       "[0, 1, 4, 9, 16]"
      ]
     },
     "execution_count": 27,
     "metadata": {},
     "output_type": "execute_result"
    }
   ],
   "source": [
    "squares"
   ]
  },
  {
   "cell_type": "code",
   "execution_count": null,
   "id": "d4b52091-66e8-4a3d-8ec3-8a51dabf4569",
   "metadata": {},
   "outputs": [],
   "source": []
  }
 ],
 "metadata": {
  "kernelspec": {
   "display_name": "Python [conda env:base] *",
   "language": "python",
   "name": "conda-base-py"
  },
  "language_info": {
   "codemirror_mode": {
    "name": "ipython",
    "version": 3
   },
   "file_extension": ".py",
   "mimetype": "text/x-python",
   "name": "python",
   "nbconvert_exporter": "python",
   "pygments_lexer": "ipython3",
   "version": "3.12.7"
  }
 },
 "nbformat": 4,
 "nbformat_minor": 5
}
