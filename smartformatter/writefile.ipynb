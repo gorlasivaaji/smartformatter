{
 "cells": [
  {
   "cell_type": "code",
   "execution_count": 31,
   "id": "1e4907a0-3383-430a-9ad2-4290133c75c1",
   "metadata": {},
   "outputs": [
    {
     "name": "stdout",
     "output_type": "stream",
     "text": [
      "Overwriting __init__.py\n"
     ]
    }
   ],
   "source": [
    "%%writefile __init__.py\n",
    "from .core import format_name, format_phone, format_currency,number_to_words,slugify"
   ]
  },
  {
   "cell_type": "code",
   "execution_count": 33,
   "id": "530ab7d1-57cc-4c9d-8a53-b86adea03bbc",
   "metadata": {},
   "outputs": [
    {
     "data": {
      "text/plain": [
       "'C:\\\\Users\\\\gorla\\\\smartformatter\\\\smartformatter'"
      ]
     },
     "execution_count": 33,
     "metadata": {},
     "output_type": "execute_result"
    }
   ],
   "source": [
    "import os \n",
    "os.getcwd()"
   ]
  },
  {
   "cell_type": "code",
   "execution_count": 29,
   "id": "35e151c8-fa00-459c-8907-5c555205b3ed",
   "metadata": {},
   "outputs": [
    {
     "name": "stdout",
     "output_type": "stream",
     "text": [
      "Writing core.py\n"
     ]
    }
   ],
   "source": [
    "%%writefile core.py\n",
    "\n",
    "import re\n",
    "import inflect\n",
    "\n",
    "def format_name(name):\n",
    "    return ' '.join([w.capitalize() for w in name.strip().split()])\n",
    "\n",
    "def format_phone(phone):\n",
    "    digits = re .sub(r'\\D', '', phone)\n",
    "    return f\"+{digits[:2]} {digits[2:7]} {digits[7:]}\"\n",
    "\n",
    "def format_currency(amount, symbol='$'):\n",
    "    return f\"{symbol}{amount:,.2f}\"\n",
    "\n",
    "def number_to_words(n):\n",
    "    p = inflect.engine()\n",
    "    return p.number_to_words(n).replace(',','')\n",
    "def slugify(text):\n",
    "    return re.sub(r'[^a-z0-9]+', '-', text.lower()).strip('-')"
   ]
  },
  {
   "cell_type": "code",
   "execution_count": null,
   "id": "cd78fad0-c32c-4d9a-8ef0-6238f5a887cc",
   "metadata": {},
   "outputs": [],
   "source": []
  }
 ],
 "metadata": {
  "kernelspec": {
   "display_name": "Python [conda env:base] *",
   "language": "python",
   "name": "conda-base-py"
  },
  "language_info": {
   "codemirror_mode": {
    "name": "ipython",
    "version": 3
   },
   "file_extension": ".py",
   "mimetype": "text/x-python",
   "name": "python",
   "nbconvert_exporter": "python",
   "pygments_lexer": "ipython3",
   "version": "3.12.7"
  }
 },
 "nbformat": 4,
 "nbformat_minor": 5
}
